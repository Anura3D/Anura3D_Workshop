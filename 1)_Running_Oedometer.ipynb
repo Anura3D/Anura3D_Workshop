{
  "cells": [
    {
      "cell_type": "code",
      "execution_count": 1,
      "metadata": {
        "id": "oKpOzkJtGfT-"
      },
      "outputs": [],
      "source": [
        "import numpy as np\n",
        "import pandas as pd\n",
        "import matplotlib.pyplot as plt\n",
        "import subprocess\n",
        "import os\n",
        "import sys"
      ]
    },
    {
      "cell_type": "code",
      "execution_count": 2,
      "metadata": {},
      "outputs": [
        {
          "name": "stdout",
          "output_type": "stream",
          "text": [
            "Running on Windows\n"
          ]
        }
      ],
      "source": [
        "if sys.platform.startswith('win'):\n",
        "    # Run code specific to Windows environment\n",
        "    print(\"Running on Windows\")\n",
        "    ON_WINDOWS = True \n",
        "    \n",
        "elif sys.platform.startswith('linux'):\n",
        "    # Run code specific to Linux environment\n",
        "    print(\"Running on Linux\")\n",
        "    \n",
        "    ON_WINDOWS = False\n",
        "else:\n",
        "    # Handle other platforms if needed\n",
        "    print(\"Running on a different platform\")\n",
        "    # Your code here\n",
        "    ON_WINDOWS = None"
      ]
    },
    {
      "cell_type": "code",
      "execution_count": 3,
      "metadata": {
        "id": "GsFVmvTELnyj"
      },
      "outputs": [
        {
          "name": "stdout",
          "output_type": "stream",
          "text": [
            "In colab: False\n"
          ]
        }
      ],
      "source": [
        "# Check if there's a google colab environment\n",
        "try:\n",
        "  import google.colab\n",
        "  IN_COLAB = True\n",
        "except ImportError:\n",
        "  IN_COLAB = False\n",
        "\n",
        "print(f\"In colab: {IN_COLAB}\")"
      ]
    },
    {
      "cell_type": "code",
      "execution_count": 4,
      "metadata": {
        "colab": {
          "base_uri": "https://localhost:8080/"
        },
        "id": "vK3ZlYYdKqZT",
        "outputId": "34207524-711c-47ca-99a2-460bfa28f147"
      },
      "outputs": [
        {
          "name": "stdout",
          "output_type": "stream",
          "text": [
            "Not in Colab\n"
          ]
        }
      ],
      "source": [
        "\n",
        "# Commands to only run when in google colab\n",
        "\n",
        "if IN_COLAB:\n",
        "  # Change the directory to content\n",
        "  %cd /content\n",
        "  \n",
        "  # Clone the repo\n",
        "  print(\"Try to clone the repo\")\n",
        "  !git clone https://github.com/Anura3D/Anura3D_Workshop.git\n",
        "\n",
        "  # List the files\n",
        "  !ls\n",
        "\n",
        "  print(\"\\nTry updating the repo if there are new changes\")\n",
        "  # Change the directory to the Git repo\n",
        "  %cd /content/Anura3D_Workshop\n",
        "\n",
        "  # Pull changes if there are new changes\n",
        "  !git pull\n",
        "\n",
        "  # Change the repo back to contact\n",
        "  !cd /content \n",
        "\n",
        "  # Update the executable permissions\n",
        "  !chmod +rx /content/Anura3D_Workshop/Oedometer_tri_MP_v1_1.A3D/Anura3D.out\n",
        "\n",
        "  # Cd into the repo\n",
        "  %cd /content/Anura3D_Workshop\n",
        "else:\n",
        "  print(\"Not in Colab\")"
      ]
    },
    {
      "cell_type": "code",
      "execution_count": 5,
      "metadata": {
        "id": "mFmbuhQ7GfT_"
      },
      "outputs": [],
      "source": [
        "# Import the model class that serves as the object that let's you run models\n",
        "from lib.data_classes.Model import model\n",
        "from lib.benchmark_info.run_benchmarks_info import benchmark_info_dict\n"
      ]
    },
    {
      "cell_type": "code",
      "execution_count": 6,
      "metadata": {
        "id": "mfo8kLr5GfT_"
      },
      "outputs": [],
      "source": [
        "# Excetuable directory\n",
        "if ON_WINDOWS:\n",
        "    exe_path = r\"./Oedometer_tri_MP_v1_1.A3D/Anura3D_2023.exe\"\n",
        "else:\n",
        "    exe_path = r\"./Oedometer_tri_MP_v1_1.A3D/Anura3D.out\"\n",
        "\n",
        "# Select the tutorial model (Can be a relative path)\n",
        "model_name = \"Oedometer_tri_MP_v1_1\"\n",
        "\n",
        "model_folder = r\"./Oedometer_tri_MP_v1_1.A3D\""
      ]
    },
    {
      "cell_type": "code",
      "execution_count": 7,
      "metadata": {
        "id": "Lk3u078wGfUA"
      },
      "outputs": [],
      "source": [
        "anura3D_model = model(exe_path, model_folder, model_name, benchmark_name = \"small_strain_oedometer\", benchmark=True)"
      ]
    },
    {
      "cell_type": "code",
      "execution_count": 8,
      "metadata": {
        "colab": {
          "base_uri": "https://localhost:8080/"
        },
        "id": "ERbig4AuGfUA",
        "outputId": "c4d8d785-0781-4c28-b8fe-ba214d7d734c"
      },
      "outputs": [
        {
          "name": "stdout",
          "output_type": "stream",
          "text": [
            "Model Name: Oedometer_tri_MP_v1_1 \n",
            "Model Path: ./Oedometer_tri_MP_v1_1.A3D\\Oedometer_tri_MP_v1_1 \n",
            "Executable Path: ./Oedometer_tri_MP_v1_1.A3D/Anura3D_2023.exe\n"
          ]
        }
      ],
      "source": [
        "print(anura3D_model)"
      ]
    },
    {
      "cell_type": "code",
      "execution_count": 9,
      "metadata": {
        "colab": {
          "base_uri": "https://localhost:8080/"
        },
        "id": "ylrWQbMzGfUA",
        "outputId": "163778e7-ce44-4f64-a938-81cecadcb938"
      },
      "outputs": [
        {
          "name": "stdout",
          "output_type": "stream",
          "text": [
            "Files deleted successfully.\n"
          ]
        }
      ],
      "source": [
        "# Delete the files in the .A3D folder\n",
        "anura3D_model.delete_folder_files()"
      ]
    },
    {
      "cell_type": "code",
      "execution_count": 10,
      "metadata": {},
      "outputs": [
        {
          "name": "stdout",
          "output_type": "stream",
          "text": [
            "Model Complete!\n"
          ]
        }
      ],
      "source": [
        "# Run the model\n",
        "anura3D_model.run_benchmark()"
      ]
    },
    {
      "cell_type": "code",
      "execution_count": 11,
      "metadata": {},
      "outputs": [],
      "source": [
        "# Flag to determine if the output should be plotted\n",
        "download_files = True\n",
        "\n",
        "# Download te files if you want\n",
        "if IN_COLAB and download_files:\n",
        "    # Download the results file\n",
        "    !zip -r /content/oedometer_data.zip /content/Anura3D_Workshop/Oedometer_tri_MP_v1_1.A3D\n",
        "\n",
        "    #from google.colab import files\n",
        "    from google.colab import files\n",
        "    files.download(\"/content/oedometer_data.zip\")"
      ]
    }
  ],
  "metadata": {
    "colab": {
      "provenance": []
    },
    "kernelspec": {
      "display_name": "Virginia_Tech_Research",
      "language": "python",
      "name": "python3"
    },
    "language_info": {
      "codemirror_mode": {
        "name": "ipython",
        "version": 3
      },
      "file_extension": ".py",
      "mimetype": "text/x-python",
      "name": "python",
      "nbconvert_exporter": "python",
      "pygments_lexer": "ipython3",
      "version": "3.9.16"
    }
  },
  "nbformat": 4,
  "nbformat_minor": 0
}
