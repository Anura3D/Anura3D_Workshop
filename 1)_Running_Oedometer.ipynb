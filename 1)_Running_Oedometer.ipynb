{
 "cells": [
  {
   "cell_type": "code",
   "execution_count": 2,
   "metadata": {},
   "outputs": [],
   "source": [
    "import numpy as np\n",
    "import pandas as pd\n",
    "import matplotlib.pyplot as plt\n",
    "import subprocess\n",
    "import os"
   ]
  },
  {
   "cell_type": "code",
   "execution_count": 3,
   "metadata": {},
   "outputs": [],
   "source": [
    "# Import the model class that serves as the object that let's you run models\n",
    "from lib.data_classes.Model import model\n",
    "from lib.benchmark_info.run_benchmarks_info import benchmark_info_dict\n"
   ]
  },
  {
   "cell_type": "code",
   "execution_count": 4,
   "metadata": {},
   "outputs": [],
   "source": [
    "\n",
    "# Excetuable directory\n",
    "exe_path = r\"./Oedometer_tri_MP_v1_1.A3D\\Anura3D_2023.exe\"\n",
    "\n",
    "# Select the tutorial model (Can be a relative path)\n",
    "model_name = \"Oedometer_tri_MP_v1_1\"\n",
    "\n",
    "model_folder = r\"./Oedometer_tri_MP_v1_1.A3D\" "
   ]
  },
  {
   "cell_type": "code",
   "execution_count": 5,
   "metadata": {},
   "outputs": [],
   "source": [
    "\n",
    "test = model(exe_path, model_folder, model_name, benchmark_name = \"small_strain_oedometer\", benchmark=True)"
   ]
  },
  {
   "cell_type": "code",
   "execution_count": 6,
   "metadata": {},
   "outputs": [
    {
     "name": "stdout",
     "output_type": "stream",
     "text": [
      "Model Name: Oedometer_tri_MP_v1_1 \n",
      "Model Path: ./Oedometer_tri_MP_v1_1.A3D\\Oedometer_tri_MP_v1_1 \n",
      "Executable Path: ./Oedometer_tri_MP_v1_1.A3D\\Anura3D_2023.exe\n"
     ]
    }
   ],
   "source": [
    "print(test)"
   ]
  },
  {
   "cell_type": "code",
   "execution_count": 7,
   "metadata": {},
   "outputs": [
    {
     "name": "stdout",
     "output_type": "stream",
     "text": [
      "Files deleted successfully.\n"
     ]
    }
   ],
   "source": [
    "test.delete_folder_files()\n"
   ]
  },
  {
   "cell_type": "code",
   "execution_count": 18,
   "metadata": {},
   "outputs": [],
   "source": [
    "test.run_benchmark()"
   ]
  },
  {
   "cell_type": "code",
   "execution_count": null,
   "metadata": {},
   "outputs": [],
   "source": []
  }
 ],
 "metadata": {
  "kernelspec": {
   "display_name": "Virginia_Tech_Research",
   "language": "python",
   "name": "python3"
  },
  "language_info": {
   "codemirror_mode": {
    "name": "ipython",
    "version": 3
   },
   "file_extension": ".py",
   "mimetype": "text/x-python",
   "name": "python",
   "nbconvert_exporter": "python",
   "pygments_lexer": "ipython3",
   "version": "3.9.16"
  }
 },
 "nbformat": 4,
 "nbformat_minor": 2
}
