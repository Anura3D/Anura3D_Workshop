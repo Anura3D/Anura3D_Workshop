{
  "cells": [
    {
      "cell_type": "markdown",
      "metadata": {},
      "source": [
        "## Anura3D Workshop Small Strain Oedometer\n",
        "\n",
        "The purpose of this notebook is to run Anura3D for a small strain oedometer problem and plot the results versus the analytical solution"
      ]
    },
    {
      "cell_type": "markdown",
      "metadata": {},
      "source": [
        "## 1) Set up the notebook for running in google colab\n",
        "\n",
        "The next couple of cells import the libraries necessary to run the oedometer model and plot the data"
      ]
    },
    {
      "cell_type": "code",
      "execution_count": 31,
      "metadata": {
        "id": "oKpOzkJtGfT-"
      },
      "outputs": [],
      "source": [
        "import numpy as np\n",
        "import pandas as pd\n",
        "import matplotlib.pyplot as plt\n",
        "import sys\n",
        "import os"
      ]
    },
    {
      "cell_type": "code",
      "execution_count": 32,
      "metadata": {},
      "outputs": [],
      "source": [
        "if sys.platform.startswith('win'):\n",
        "    # Run code specific to Windows environment\n",
        "    print(\"Running on Windows\")\n",
        "    ON_WINDOWS = True \n",
        "    \n",
        "elif sys.platform.startswith('linux'):\n",
        "    # Run code specific to Linux environment\n",
        "    print(\"Running on Linux\")\n",
        "    \n",
        "    ON_WINDOWS = False\n",
        "else:\n",
        "    # Handle other platforms if needed\n",
        "    print(\"Running on a different platform\")\n",
        "    # Your code here\n",
        "    ON_WINDOWS = None"
      ]
    },
    {
      "cell_type": "code",
      "execution_count": 33,
      "metadata": {
        "id": "GsFVmvTELnyj"
      },
      "outputs": [],
      "source": [
        "# Check if there's a google colab environment\n",
        "try:\n",
        "  import google.colab\n",
        "  IN_COLAB = True\n",
        "except ImportError:\n",
        "  IN_COLAB = False\n",
        "\n",
        "print(f\"In colab: {IN_COLAB}\")"
      ]
    },
    {
      "cell_type": "code",
      "execution_count": 34,
      "metadata": {
        "colab": {
          "base_uri": "https://localhost:8080/"
        },
        "id": "vK3ZlYYdKqZT",
        "outputId": "34207524-711c-47ca-99a2-460bfa28f147"
      },
      "outputs": [],
      "source": [
        "\n",
        "# Commands to only run when in google colab\n",
        "\n",
        "if IN_COLAB:\n",
        "  # Change the directory to content\n",
        "  %cd /content\n",
        "  \n",
        "  # Clone the repo\n",
        "  print(\"Try to clone the repo\")\n",
        "  !git clone https://github.com/Anura3D/Anura3D_Workshop.git\n",
        "\n",
        "  # List the files\n",
        "  !ls\n",
        "\n",
        "  print(\"\\nTry updating the repo if there are new changes\")\n",
        "  # Change the directory to the Git repo\n",
        "  %cd /content/Anura3D_Workshop\n",
        "\n",
        "  # Pull changes if there are new changes\n",
        "  !git pull\n",
        "\n",
        "  # Change the repo back to contact\n",
        "  !cd /content \n",
        "\n",
        "  # Update the executable permissions\n",
        "  !chmod +rx /content/Anura3D_Workshop/Oedometer_tri_MP_v1_1.A3D/Anura3D.out\n",
        "\n",
        "  # Cd into the repo\n",
        "  %cd /content/Anura3D_Workshop\n",
        "\n",
        "elif not ON_WINDOWS:\n",
        "  # Assume that you're using linux\n",
        "  !chmod +rx Oedometer_tri_MP_v1_1.A3D/Anura3D.out\n",
        "  \n",
        "else:\n",
        "  print(\"Not in Colab\")"
      ]
    },
    {
      "cell_type": "markdown",
      "metadata": {},
      "source": [
        "### Import the functions required for plotting the model"
      ]
    },
    {
      "cell_type": "code",
      "execution_count": 35,
      "metadata": {
        "id": "mFmbuhQ7GfT_"
      },
      "outputs": [],
      "source": [
        "# Import the model class that serves as the object that let's you run models\n",
        "from lib.data_classes.Model import model\n",
        "from lib.benchmark_info.run_benchmarks_info import benchmark_info_dict\n",
        "\n",
        "# import isochrone function\n",
        "from lib.general_functions.terzaghi_pressure_solution import terzaghi_pressure_solution\n",
        "\n",
        "# import the PAR file processing function \n",
        "from lib.general_functions.read_mpm_data import process_parfiles\n",
        "\n",
        "# import function to plot the settlement solution\n",
        "from lib.general_functions.terzaghi_settlement_solution import terzaghi_settlement_solution\n",
        "\n",
        "# import the functions to plot the numerical solutions\n",
        "from lib.general_functions.read_mpm_data import plot_analytical_numerical_solutions\n",
        "\n"
      ]
    },
    {
      "cell_type": "markdown",
      "metadata": {},
      "source": [
        "### Set the executable path\n",
        "The windows option is in case you want to run it locally on your computer."
      ]
    },
    {
      "cell_type": "code",
      "execution_count": 36,
      "metadata": {
        "id": "mfo8kLr5GfT_"
      },
      "outputs": [],
      "source": [
        "# Excetuable directory\n",
        "if ON_WINDOWS:\n",
        "    exe_path = r\"./Oedometer_tri_MP_v1_1.A3D/Anura3D_2023.exe\"\n",
        "else:\n",
        "    exe_path = r\"./Oedometer_tri_MP_v1_1.A3D/Anura3D.out\"\n",
        "\n",
        "# Select the tutorial model (Can be a relative path)\n",
        "model_name = \"Oedometer_tri_MP_v1_1\"\n",
        "\n",
        "# Get the current working directory\n",
        "cwd = os.getcwd()\n",
        "print(f\"Current working directory: {cwd}\")\n",
        "\n",
        "model_folder = os.path.join(os.getcwd(), r\"Oedometer_tri_MP_v1_1.A3D\")\n",
        "print(f\"Model folder dir: {model_folder}\")"
      ]
    },
    {
      "cell_type": "markdown",
      "metadata": {},
      "source": [
        "## 2) Bookeeping and running the model"
      ]
    },
    {
      "cell_type": "code",
      "execution_count": 37,
      "metadata": {
        "id": "Lk3u078wGfUA"
      },
      "outputs": [],
      "source": [
        "anura3D_model = model(exe_path, model_folder, model_name, benchmark_name = \"small_strain_oedometer\", benchmark=True)"
      ]
    },
    {
      "cell_type": "markdown",
      "metadata": {},
      "source": [
        "### Printing some information about the model and delete possible files from previous runs"
      ]
    },
    {
      "cell_type": "code",
      "execution_count": 38,
      "metadata": {
        "colab": {
          "base_uri": "https://localhost:8080/"
        },
        "id": "ERbig4AuGfUA",
        "outputId": "c4d8d785-0781-4c28-b8fe-ba214d7d734c"
      },
      "outputs": [],
      "source": [
        "print(anura3D_model)\n",
        "\n",
        "# Delete the files in the .A3D folder\n",
        "# anura3D_model.delete_folder_files()"
      ]
    },
    {
      "cell_type": "markdown",
      "metadata": {},
      "source": [
        "### Run the oedometer model"
      ]
    },
    {
      "cell_type": "code",
      "execution_count": 39,
      "metadata": {},
      "outputs": [],
      "source": [
        "# Run the model\n",
        "anura3D_model.run_benchmark()"
      ]
    },
    {
      "cell_type": "markdown",
      "metadata": {},
      "source": [
        "### 3) Download the files locally if you want to make modifications locally"
      ]
    },
    {
      "cell_type": "code",
      "execution_count": 40,
      "metadata": {},
      "outputs": [],
      "source": [
        "# Change download_files to True if you want to download the files you your personal computerr, only necessary if running in colab\n",
        "download_files = False\n",
        "\n",
        "# Download te files if you want\n",
        "if IN_COLAB and download_files:\n",
        "    # Download the results filer\n",
        "    !zip -r /content/oedometer_data.zip /content/Anura3D_Workshop/Oedometer_tri_MP_v1_1.A3D\n",
        "\n",
        "    #from google.colab import files\n",
        "    from google.colab import files\n",
        "    files.download(\"/content/oedometer_data.zip\")"
      ]
    },
    {
      "cell_type": "markdown",
      "metadata": {},
      "source": [
        "## 4) Calculate the analytical solution using Terzaghi's small strain solution"
      ]
    },
    {
      "cell_type": "code",
      "execution_count": 41,
      "metadata": {
        "metadata": {}
      },
      "outputs": [],
      "source": [
        "## ANALYTICAL SOLUTION CALCULATIONS\n",
        "## INPUTS\n",
        "\n",
        "# sampling\n",
        "DataPoints = 200 #arbitrary integer for discretizing depth\n",
        "\n",
        "# geometry \n",
        "LayerDepth = 1 # [m]\n",
        "\n",
        "# material parameters\n",
        "IntrinsicPermeability = 1.0241e-9 #Value from the tutorial manual #m^2 #5e-5\n",
        "Porosity = 0.4 # Value from the tutorial manual #no units #0.3\n",
        "Viscosity = 1.002e-3 # [Pa-s] (or kg/sm)\n",
        "YoungsModulus = 1000e3 # Value from the tutorial manual #Pa\n",
        "PoissonRatio = 0.3 \n",
        "LiquidDensity = 1000 # [kg/m3]\n",
        "GravitationalAcceleration = 9.81 # [m/s2]\n",
        "\n",
        "# dimensional or nondimensional time input \n",
        "DimensionalTimeInput = False\n",
        "target_nondimtimes = (0.0314, 0.126, 0.197, 0.403, 0.848, 2)\n",
        "\n",
        "# Call the function and capture the results\n",
        "u_z, DimensionalTime, NondimensionalTime, DepthArray = terzaghi_pressure_solution(\n",
        "    DataPoints,\n",
        "    LayerDepth,\n",
        "    IntrinsicPermeability,\n",
        "    Porosity,\n",
        "    Viscosity,\n",
        "    YoungsModulus,\n",
        "    PoissonRatio,\n",
        "    LiquidDensity,\n",
        "    DimensionalTimeInput,\n",
        "    EndTime=0.1, # if DimensionalTimeInput=True, you need to input the endtime for datarange\n",
        "    target_times=target_nondimtimes, #0.2, 0.3, 0.4, 0.5, 1),\n",
        "    plot_results=True  # Optional plotting control\n",
        ")"
      ]
    },
    {
      "cell_type": "code",
      "execution_count": 42,
      "metadata": {
        "metadata": {}
      },
      "outputs": [],
      "source": [
        "\n",
        "# Define a list of directories\n",
        "directories = [anura3D_model.model_folder]\n",
        "\n",
        "# Call the function with the list of directories\n",
        "par_dataframes_by_directory = process_parfiles(directories)\n"
      ]
    },
    {
      "cell_type": "code",
      "execution_count": 43,
      "metadata": {
        "metadata": {}
      },
      "outputs": [],
      "source": [
        "\n",
        "TractionLoad = -10 #kPa\n",
        "\n",
        "# Call the function with the appropriate arguments\n",
        "plot_analytical_numerical_solutions(\n",
        "    par_dataframes_by_directory,\n",
        "    u_z,\n",
        "    DepthArray,\n",
        "    NondimensionalTime,\n",
        "    TractionLoad\n",
        ")"
      ]
    },
    {
      "cell_type": "code",
      "execution_count": 44,
      "metadata": {},
      "outputs": [],
      "source": [
        "## GENERATE PRIMARY CONSOLIDATION SETTLEMENT CALCULATION \n",
        "\n",
        "TractionLoad = -10e3 # N used in the numerical solution\n",
        "NondimensionalTime = np.linspace(0,5,DataPoints) #generating a series of depths z\n",
        "\n",
        "UU = terzaghi_settlement_solution(LayerDepth, TractionLoad, NondimensionalTime, YoungsModulus, PoissonRatio)\n"
      ]
    },
    {
      "cell_type": "code",
      "execution_count": 45,
      "metadata": {},
      "outputs": [],
      "source": [
        "## PLOT NUMERICAL SOLUTION AGAINST THE ANALYTICAL SOLUTION \n",
        "# Loop through each key and DataFrame in par_dataframes_by_directory\n",
        "for dir_key, dataframes in par_dataframes_by_directory.items():  # Loop through each directory\n",
        "    # Initialize a plot\n",
        "    plt.figure(figsize=(10, 6))  # Set the plot size\n",
        "    for file_key, df in dataframes.items():  # Loop through each DataFrame\n",
        "        if \"Uy\" in df.columns and \"Time\" in df.columns:  # Ensure the variables exist\n",
        "            # Extract `Uy` and `Time`\n",
        "            uy_values = df[\"Uy\"]  # Displacement along Y-axis\n",
        "            time_values = df[\"Time\"]  # Corresponding time\n",
        "\n",
        "            # Plot `Uy` vs. `Time` for each DataFrame\n",
        "            plt.plot(time_values, uy_values, 'o-', label=f\"{file_key[-3:]}\")  # Line with markers\n",
        "            plt.legend()\n",
        "\n",
        "\n",
        "    # Customize the plot\n",
        "    plt.xlabel(\"Time (s)\")  # X-axis label\n",
        "    plt.ylabel(\"Uy (Displacement in Y)\")  # Y-axis label\n",
        "    plt.title(\"Uy vs. Time for Different Material points\")  # Plot title\n",
        "    plt.grid(True)  # Add gridlines\n",
        "    #plt.legend()  # Display the legend to differentiate plots by directory and file\n",
        "\n",
        "    plt.plot(NondimensionalTime, UU, linestyle=':', color='black', linewidth=3)\n",
        "    plt.xlim(0, 3)\n",
        "    plt.ylim(-0.01, 0.001)\n",
        "    # Display the plot\n",
        "    plt.show()  # Show the plot"
      ]
    },
    {
      "cell_type": "markdown",
      "metadata": {},
      "source": [
        "## 4) Parametric Analysis\n",
        "To do a simple parametric analysis you can edit the .CPS_001 and .GOM files. The easiest way to do this is:\n",
        "\n",
        "1) In the lower cell change ```False``` to ```True```and then run the cell. This will delete the results from the ```Oedometer_tri_MP_v1_1.A3D``` folder, setting up the model to run with another set of parameters. \n",
        "\n",
        "2) Once you've run the cell change the ```True``` value back to ```False```. The purpose of this statement is to prevent the files from being deleted if all of the cells are run.\n",
        "\n",
        "3) Find the .CPS_001 and .GOM file in the ```Oedometer_tri_MP_v1_1.A3D``` folder and double click on them. The files should open and you can make any edits you want there."
      ]
    },
    {
      "cell_type": "code",
      "execution_count": null,
      "metadata": {},
      "outputs": [],
      "source": [
        "# Set to False so that if you run all of the cells the files aren't deleted. \n",
        "# Only change this to True if you want to clear the results so you change the .CPS_001 and .GOM file\n",
        "\n",
        "if False:\n",
        "    # If True, delete the files in the folder\n",
        "    anura3D_model.delete_folder_files()"
      ]
    }
  ],
  "metadata": {
    "colab": {
      "provenance": []
    },
    "kernelspec": {
      "display_name": "Virginia_Tech_Research",
      "language": "python",
      "name": "python3"
    },
    "language_info": {
      "codemirror_mode": {
        "name": "ipython",
        "version": 3
      },
      "file_extension": ".py",
      "mimetype": "text/x-python",
      "name": "python",
      "nbconvert_exporter": "python",
      "pygments_lexer": "ipython3",
      "version": "3.12.5"
    }
  },
  "nbformat": 4,
  "nbformat_minor": 0
}
